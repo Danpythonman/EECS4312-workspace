{
  "nbformat": 4,
  "nbformat_minor": 0,
  "metadata": {
    "colab": {
      "provenance": [],
      "authorship_tag": "ABX9TyM8ACc+eWD0ONi5lpY6/sSL",
      "include_colab_link": true
    },
    "kernelspec": {
      "name": "python3",
      "display_name": "Python 3"
    },
    "language_info": {
      "name": "python"
    }
  },
  "cells": [
    {
      "cell_type": "markdown",
      "metadata": {
        "id": "view-in-github",
        "colab_type": "text"
      },
      "source": [
        "<a href=\"https://colab.research.google.com/github/Danpythonman/EECS4312-workspace/blob/main/Untitled0.ipynb\" target=\"_parent\"><img src=\"https://colab.research.google.com/assets/colab-badge.svg\" alt=\"Open In Colab\"/></a>"
      ]
    },
    {
      "cell_type": "code",
      "execution_count": 1,
      "metadata": {
        "colab": {
          "base_uri": "https://localhost:8080/",
          "height": 0
        },
        "id": "kNKGBH4T8Uz9",
        "outputId": "597dd93a-145a-4190-e29d-dbf35eeeddd7"
      },
      "outputs": [
        {
          "output_type": "stream",
          "name": "stdout",
          "text": [
            "The next number in the sequence is: 6.0\n"
          ]
        }
      ],
      "source": [
        "# prompt: machine learning model that predicts the next number in a sequence\n",
        "\n",
        "import numpy as np\n",
        "from sklearn.linear_model import LinearRegression\n",
        "\n",
        "def predict_next_number(sequence):\n",
        "  \"\"\"\n",
        "  Predicts the next number in a sequence using linear regression.\n",
        "\n",
        "  Args:\n",
        "    sequence: A list of numbers.\n",
        "\n",
        "  Returns:\n",
        "    The predicted next number in the sequence.\n",
        "  \"\"\"\n",
        "  # Create input features (index of each number)\n",
        "  X = np.array(range(len(sequence))).reshape(-1, 1)\n",
        "  # Create target variable (the sequence itself)\n",
        "  y = np.array(sequence)\n",
        "\n",
        "  # Train a linear regression model\n",
        "  model = LinearRegression()\n",
        "  model.fit(X, y)\n",
        "\n",
        "  # Predict the next number\n",
        "  next_index = len(sequence)\n",
        "  next_number = model.predict([[next_index]])\n",
        "\n",
        "  return next_number[0]\n",
        "\n",
        "# Example usage\n",
        "sequence = [1, 2, 3, 4, 5]\n",
        "next_number = predict_next_number(sequence)\n",
        "print(\"The next number in the sequence is:\", next_number)\n"
      ]
    },
    {
      "cell_type": "markdown",
      "source": [
        "This is text block"
      ],
      "metadata": {
        "id": "QhD7UAFU_1U4"
      }
    },
    {
      "cell_type": "code",
      "source": [
        "print(\"test\")"
      ],
      "metadata": {
        "colab": {
          "base_uri": "https://localhost:8080/",
          "height": 0
        },
        "id": "VM4n1p6V_3Sv",
        "outputId": "76518280-444a-47a1-e890-9fb84d7a06ae"
      },
      "execution_count": 2,
      "outputs": [
        {
          "output_type": "stream",
          "name": "stdout",
          "text": [
            "test\n"
          ]
        }
      ]
    }
  ]
}